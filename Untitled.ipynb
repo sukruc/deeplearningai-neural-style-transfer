{
 "cells": [
  {
   "cell_type": "code",
   "execution_count": 1,
   "metadata": {},
   "outputs": [
    {
     "name": "stdout",
     "output_type": "stream",
     "text": [
      "Art Generation with Neural Style Transfer - v1.ipynb\n",
      "Art Generation with Neural Style Transfer - v2.ipynb\n",
      "Art Generation with Neural Style Transfer - v3.ipynb\n",
      "Pretrained_Model_LICENSE.txt\n",
      "Untitled.ipynb\n",
      "__pycache__/\n",
      "images/\n",
      "images/persian_cat.jpg\n",
      "images/NST_LOSS.png\n",
      "images/circle_abstract.png\n",
      "images/stone_style.jpg\n",
      "images/louvre_small.jpg\n",
      "images/louvre.jpg\n",
      "images/persian_cat_content.jpg\n",
      "images/result.png\n",
      "images/monet.jpg\n",
      "images/gram.png\n",
      "images/drop-of-water.jpg\n",
      "images/sandstone.jpg\n",
      "images/hidden_layers.png\n",
      "images/louvre_generated.png\n",
      "images/content_plus_style.png\n",
      "images/pasargad_kashi.png\n",
      "images/perspolis_vangogh.png\n",
      "images/content300.jpg\n",
      "images/claude-monet.jpg\n",
      "images/style300.jpg\n",
      "images/NST_GM.png\n",
      "images/reshape_loss.png\n",
      "images/cat.jpg\n",
      "images/monet_800600.jpg\n",
      "images/camp-nou.jpg\n",
      "images/content.jpeg\n",
      "nst_utils.py\n",
      "output/\n",
      "output/0.png\n",
      "pretrained-model/\n",
      "pretrained-model/imagenet-vgg-verydeep-19.mat\n",
      "workspaca.tar.gz\n"
     ]
    }
   ],
   "source": [
    "!tar chvfz notebook.tar.gz *"
   ]
  },
  {
   "cell_type": "code",
   "execution_count": null,
   "metadata": {
    "collapsed": true
   },
   "outputs": [],
   "source": []
  }
 ],
 "metadata": {
  "kernelspec": {
   "display_name": "Python 3",
   "language": "python",
   "name": "python3"
  },
  "language_info": {
   "codemirror_mode": {
    "name": "ipython",
    "version": 3
   },
   "file_extension": ".py",
   "mimetype": "text/x-python",
   "name": "python",
   "nbconvert_exporter": "python",
   "pygments_lexer": "ipython3",
   "version": "3.6.0"
  }
 },
 "nbformat": 4,
 "nbformat_minor": 2
}
